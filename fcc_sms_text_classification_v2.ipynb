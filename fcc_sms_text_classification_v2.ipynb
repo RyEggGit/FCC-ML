{
  "cells": [
    {
      "cell_type": "markdown",
      "metadata": {
        "id": "view-in-github",
        "colab_type": "text"
      },
      "source": [
        "<a href=\"https://colab.research.google.com/github/RyEggGit/FCC-ML/blob/main/fcc_sms_text_classification_v2.ipynb\" target=\"_parent\"><img src=\"https://colab.research.google.com/assets/colab-badge.svg\" alt=\"Open In Colab\"/></a>"
      ]
    },
    {
      "cell_type": "markdown",
      "metadata": {
        "id": "Eg62Pmz3o83v"
      },
      "source": [
        "*Note: You are currently reading this using Google Colaboratory which is a cloud-hosted version of Jupyter Notebook. This is a document containing both text cells for documentation and runnable code cells. If you are unfamiliar with Jupyter Notebook, watch this 3-minute introduction before starting this challenge: https://www.youtube.com/watch?v=inN8seMm7UI*\n",
        "\n",
        "---\n",
        "\n",
        "In this challenge, you need to create a machine learning model that will classify SMS messages as either \"ham\" or \"spam\". A \"ham\" message is a normal message sent by a friend. A \"spam\" message is an advertisement or a message sent by a company.\n",
        "\n",
        "You should create a function called `predict_message` that takes a message string as an argument and returns a list. The first element in the list should be a number between zero and one that indicates the likeliness of \"ham\" (0) or \"spam\" (1). The second element in the list should be the word \"ham\" or \"spam\", depending on which is most likely.\n",
        "\n",
        "For this challenge, you will use the [SMS Spam Collection dataset](http://www.dt.fee.unicamp.br/~tiago/smsspamcollection/). The dataset has already been grouped into train data and test data.\n",
        "\n",
        "The first two cells import the libraries and data. The final cell tests your model and function. Add your code in between these cells.\n"
      ]
    },
    {
      "cell_type": "code",
      "execution_count": null,
      "metadata": {
        "id": "8RZOuS9LWQvv"
      },
      "outputs": [],
      "source": [
        "# import libraries\n",
        "try:\n",
        "  # %tensorflow_version only exists in Colab.\n",
        "  !pip install tf-nightly\n",
        "except Exception:\n",
        "  pass\n",
        "import tensorflow as tf\n",
        "import pandas as pd\n",
        "from tensorflow import keras\n",
        "!pip install tensorflow-datasets\n",
        "import tensorflow_datasets as tfds\n",
        "import numpy as np\n",
        "import matplotlib.pyplot as plt\n",
        "\n",
        "\n",
        "print(tf.__version__)"
      ]
    },
    {
      "cell_type": "code",
      "execution_count": null,
      "metadata": {
        "id": "sgHAHHhUN0B3"
      },
      "outputs": [],
      "source": [
        "# My imports \n",
        "from keras.preprocessing import sequence, text\n",
        "from keras import Sequential, layers\n",
        "import math\n",
        "from collections import Counter\n",
        "from tensorflow.keras.layers import Embedding, GlobalAveragePooling1D, Dense, Dropout, LSTM, Bidirectional\n"
      ]
    },
    {
      "cell_type": "code",
      "execution_count": null,
      "metadata": {
        "id": "lMHwYXHXCar3"
      },
      "outputs": [],
      "source": [
        "# get data files\n",
        "!wget https://cdn.freecodecamp.org/project-data/sms/train-data.tsv\n",
        "!wget https://cdn.freecodecamp.org/project-data/sms/valid-data.tsv\n",
        "\n",
        "train_file_path = \"train-data.tsv\"\n",
        "\n",
        "test_file_path = \"valid-data.tsv\""
      ]
    },
    {
      "cell_type": "code",
      "source": [
        ""
      ],
      "metadata": {
        "id": "30CnZ3FOw4l7"
      },
      "execution_count": null,
      "outputs": []
    },
    {
      "cell_type": "markdown",
      "metadata": {
        "id": "0EHRkQk1mKF8"
      },
      "source": [
        "# Format Data from CSV\n",
        "- "
      ]
    },
    {
      "cell_type": "code",
      "source": [
        "# Read .tsv\n",
        "trainDF = pd.read_csv(train_file_path, delimiter=\"\\t\",encoding='UTF-8',names=[\"label\", \"message\"])\n",
        "testDF = pd.read_csv(test_file_path, delimiter=\"\\t\",encoding='UTF-8',names=[\"label\", \"message\"])"
      ],
      "metadata": {
        "id": "_8EzZxjWw6VB"
      },
      "execution_count": null,
      "outputs": []
    },
    {
      "cell_type": "markdown",
      "source": [
        "# Preprocessing\n",
        "- Combine Data sets\n",
        "- Pop the Y category from X\n",
        "- Determine the length of the sequnece from average"
      ],
      "metadata": {
        "id": "onpLeGD_xQ4_"
      }
    },
    {
      "cell_type": "code",
      "source": [
        "print(trainDF.shape)\n",
        "print(testDF.shape)\n",
        "print(len(testDF)/len(trainDF))"
      ],
      "metadata": {
        "id": "myGp6K1HyFbp"
      },
      "execution_count": null,
      "outputs": []
    },
    {
      "cell_type": "code",
      "execution_count": null,
      "metadata": {
        "id": "g_h508FEClxO"
      },
      "outputs": [],
      "source": [
        "#----Pre Processing----\n",
        "trainDF = trainDF.append(testDF, ignore_index=True)\n",
        "#Covert cat-> num\n",
        "trainDF['label'] = trainDF['label'].astype(\"category\").cat.codes\n",
        "# Seperate X and Y \n",
        "\n",
        "train_Y = trainDF.pop('label')\n",
        "train_X = trainDF\n",
        "# Get Sequence Length\n",
        "SEQUNECE_LENGTH = math.floor(trainDF['message'].apply(len).mean()) - 20 \n",
        "print(SEQUNECE_LENGTH)\n",
        "print(trainDF.shape)"
      ]
    },
    {
      "cell_type": "markdown",
      "metadata": {
        "id": "9-4pRQRfmSRv"
      },
      "source": [
        "# Anyalize Data\n",
        "- Alot more \"ham\"s than \"spam\"s so undersample inorder to have better data\n",
        "- Tokenize/ pad data for model to use"
      ]
    },
    {
      "cell_type": "code",
      "source": [
        "print(train_Y.value_counts())"
      ],
      "metadata": {
        "id": "bPJn1ybax6Mk"
      },
      "execution_count": null,
      "outputs": []
    },
    {
      "cell_type": "code",
      "source": [
        "#Undersample Approach\n",
        "print(len(train_X),len(train_Y))\n",
        "percent_to_remove = round(1-train_Y.value_counts()[1]/train_Y.value_counts()[0], 2)\n",
        "remove_vals = train_Y[train_Y == 0].sample(frac = percent_to_remove)\n",
        "for key in remove_vals.keys():\n",
        "  train_X = train_X.drop(key)\n",
        "  train_Y = train_Y.drop(key)\n",
        "print(len(train_X),len(train_Y))\n"
      ],
      "metadata": {
        "id": "Wj-Z8GKJ_ywM"
      },
      "execution_count": null,
      "outputs": []
    },
    {
      "cell_type": "code",
      "source": [
        "print(train_Y.value_counts())"
      ],
      "metadata": {
        "id": "VukO594Jx-8T"
      },
      "execution_count": null,
      "outputs": []
    },
    {
      "cell_type": "code",
      "source": [
        "# Turn strings to list of ints\n",
        "tokenizer = text.Tokenizer()\n",
        "tokenizer.fit_on_texts(train_X['message'].tolist())\n",
        "train_X = tokenizer.texts_to_sequences(train_X['message'].tolist())\n",
        "\n",
        "vocab_size = tokenizer.document_count"
      ],
      "metadata": {
        "id": "yDcpGLziB5ic"
      },
      "execution_count": null,
      "outputs": []
    },
    {
      "cell_type": "code",
      "source": [
        "# Pad messages\n",
        "train_X = tf.keras.preprocessing.sequence.pad_sequences(train_X, SEQUNECE_LENGTH)\n"
      ],
      "metadata": {
        "id": "muCrH3FEB6r6"
      },
      "execution_count": null,
      "outputs": []
    },
    {
      "cell_type": "markdown",
      "source": [
        "#Create Model\n"
      ],
      "metadata": {
        "id": "iwje_OS_yyBO"
      }
    },
    {
      "cell_type": "code",
      "execution_count": null,
      "metadata": {
        "id": "O2sxW0yIqlNB"
      },
      "outputs": [],
      "source": [
        "#Dense model architecture\n",
        "model = Sequential()\n",
        "model.add(Embedding(5000, 32, input_length=SEQUNECE_LENGTH))\n",
        "model.add(LSTM(32, activation='relu'))\n",
        "\n",
        "model.add(Dropout(0.2))\n",
        "model.add(Dense(128, activation='relu'))\n",
        "model.add(Dense(1, activation='sigmoid'))\n",
        "\n",
        "model.compile(loss='binary_crossentropy',optimizer='adam' ,metrics=['accuracy'])\n",
        "model.summary()"
      ]
    },
    {
      "cell_type": "code",
      "execution_count": null,
      "metadata": {
        "id": "r_WklpAdsemm"
      },
      "outputs": [],
      "source": [
        "# Train Model\n",
        "early_stop = tf.keras.callbacks.EarlyStopping(monitor='val_loss', patience=3)\n",
        "history = model.fit(train_X, train_Y,epochs=20,verbose=True,validation_split= 0.2, callbacks=[early_stop])"
      ]
    },
    {
      "cell_type": "markdown",
      "source": [
        "#Analyze Loss/Accuraccy of train vs test Data"
      ],
      "metadata": {
        "id": "z6Z_cbQGy1tf"
      }
    },
    {
      "cell_type": "code",
      "execution_count": null,
      "metadata": {
        "id": "ZRuLHLswc-OS"
      },
      "outputs": [],
      "source": [
        "# Read as a dataframe \n",
        "metrics = pd.DataFrame(history.history)\n",
        "# Rename column\n",
        "metrics.rename(columns = {'loss': 'Training_Loss', 'accuracy': 'Training_Accuracy', 'val_loss': 'Validation_Loss', 'val_accuracy': 'Validation_Accuracy'}, inplace = True)\n",
        "def plot_graphs1(var1, var2, string):\n",
        "    metrics[[var1, var2]].plot()\n",
        "    plt.title('Training and Validation ' + string)\n",
        "    plt.xlabel ('Number of epochs')\n",
        "    plt.ylabel(string)\n",
        "    plt.legend([var1, var2])\n",
        "plot_graphs1('Training_Loss', 'Validation_Loss', 'loss')\n"
      ]
    },
    {
      "cell_type": "code",
      "execution_count": null,
      "metadata": {
        "id": "lHwakszhaqmE"
      },
      "outputs": [],
      "source": [
        "plot_graphs1('Training_Accuracy', 'Validation_Accuracy', 'accuracy')"
      ]
    },
    {
      "cell_type": "markdown",
      "source": [
        "#Format Output In order to Make Predictions"
      ],
      "metadata": {
        "id": "BKDFZdYEy_bF"
      }
    },
    {
      "cell_type": "code",
      "execution_count": null,
      "metadata": {
        "id": "4TY7btkeBX8z"
      },
      "outputs": [],
      "source": [
        "def encode_text(uncode_text):\n",
        "  uncode_text = [uncode_text]\n",
        "  tokenizer.fit_on_texts(uncode_text)\n",
        "  \n",
        "  code_text = tokenizer.texts_to_sequences(uncode_text)\n",
        "  code_text = keras.preprocessing.sequence.pad_sequences(code_text, SEQUNECE_LENGTH)\n",
        "  return code_text"
      ]
    },
    {
      "cell_type": "code",
      "execution_count": null,
      "metadata": {
        "id": "J9tD9yACG6M9"
      },
      "outputs": [],
      "source": [
        "# function to predict messages based on model\n",
        "# (should return list containing prediction and label, ex. [0.008318834938108921, 'ham'])\n",
        "def predict_message(pred_text):\n",
        "  \n",
        "  pred_text = encode_text(pred_text)\n",
        "  pred = np.zeros((1, SEQUNECE_LENGTH))\n",
        "  pred[0] = pred_text\n",
        "  prediction = model.predict(pred)\n",
        "  if (prediction[0][0] >= 0.5):\n",
        "      prediction= np.append(prediction[0],['spam'])\n",
        "  else:\n",
        "      prediction = np.append(prediction[0],['ham'])\n",
        "  return prediction\n",
        "  \n",
        "\n",
        "pred_text = \"our new mobile video service is live. just install on your phone to start watching.\"\n",
        "\n",
        "prediction = predict_message(pred_text)\n",
        "print(prediction)"
      ]
    },
    {
      "cell_type": "markdown",
      "source": [
        "#Test"
      ],
      "metadata": {
        "id": "znabHrofzEko"
      }
    },
    {
      "cell_type": "code",
      "execution_count": null,
      "metadata": {
        "id": "Dxotov85SjsC"
      },
      "outputs": [],
      "source": [
        "# Run this cell to test your function and model. Do not modify contents.\n",
        "def test_predictions():\n",
        "  test_messages = [\"how are you doing today\",\n",
        "                   \"sale today! to stop texts call 98912460324\",\n",
        "                   \"i dont want to go. can we try it a different day? available sat\",\n",
        "                   \"our new mobile video service is live. just install on your phone to start watching.\",\n",
        "                   \"you have won £1000 cash! call to claim your prize.\",\n",
        "                   \"i'll bring it tomorrow. don't forget the milk.\",\n",
        "                   \"wow, is your arm alright. that happened to me one time too\"\n",
        "                  ]\n",
        "\n",
        "  test_answers = [\"ham\", \"spam\", \"ham\", \"spam\", \"spam\", \"ham\", \"ham\"]\n",
        "  passed = True\n",
        "\n",
        "  for msg, ans in zip(test_messages, test_answers):\n",
        "    prediction = predict_message(msg)\n",
        "    if prediction[1] != ans:\n",
        "      print(prediction[0],msg)\n",
        "      passed = False\n",
        "\n",
        "  if passed:\n",
        "    print(\"You passed the challenge. Great job!\")\n",
        "  else:\n",
        "    print(\"You haven't passed yet. Keep trying.\")\n",
        "\n",
        "test_predictions()\n"
      ]
    }
  ],
  "metadata": {
    "accelerator": "GPU",
    "colab": {
      "collapsed_sections": [],
      "name": "fcc_sms_text_classification v2.ipynb",
      "provenance": [],
      "private_outputs": true,
      "include_colab_link": true
    },
    "kernelspec": {
      "display_name": "Python 3",
      "name": "python3"
    },
    "language_info": {}
  },
  "nbformat": 4,
  "nbformat_minor": 0
}